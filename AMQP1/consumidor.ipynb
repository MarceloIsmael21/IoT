{
 "cells": [
  {
   "cell_type": "code",
   "execution_count": null,
   "metadata": {},
   "outputs": [],
   "source": [
    "import pika"
   ]
  },
  {
   "cell_type": "code",
   "execution_count": null,
   "metadata": {},
   "outputs": [],
   "source": [
    "import pika\n",
    "\n",
    "connection_parameters = pika.ConnectionParameters('localhost')\n",
    "\n",
    "connection = pika.BlockingConnection(connection_parameters)\n",
    "\n",
    "channel = connection.channel()\n",
    "\n",
    "channel.queue_declare(queue='letterbox')\n",
    "\n",
    "message = \"Hello this is my first message\"\n",
    "\n",
    "channel.basic_publish(exchange='', routing_key='letterbox', body=message)\n",
    "\n",
    "print(f\"sent message: {message}\")\n",
    "\n",
    "connection.close()"
   ]
  },
  {
   "cell_type": "code",
   "execution_count": null,
   "metadata": {},
   "outputs": [],
   "source": [
    "def on_message_received(ch, method, properties, body):\n",
    "    print(f\"received new message: {body}\")\n",
    "\n",
    "connection_parameters = pika.ConnectionParameters('localhost')\n",
    "\n",
    "connection = pika.BlockingConnection(connection_parameters)\n",
    "\n",
    "channel = connection.channel()\n",
    "\n",
    "channel.queue_declare(queue='letterbox')\n",
    "\n",
    "channel.basic_consume(queue='letterbox', auto_ack=True,\n",
    "    on_message_callback=on_message_received)\n",
    "\n",
    "print(\"Starting Consuming\")\n",
    "\n",
    "channel.start_consuming()"
   ]
  }
 ],
 "metadata": {
  "language_info": {
   "name": "python"
  }
 },
 "nbformat": 4,
 "nbformat_minor": 2
}
