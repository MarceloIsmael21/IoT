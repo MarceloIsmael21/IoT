{
 "cells": [
  {
   "cell_type": "code",
   "execution_count": null,
   "metadata": {},
   "outputs": [],
   "source": [
    "import pika"
   ]
  },
  {
   "cell_type": "code",
   "execution_count": null,
   "metadata": {},
   "outputs": [],
   "source": [
    "def on_message_received(ch, method, properties, body):\n",
    "    print(f\"consumidor 1 - nuevo mensaje recibido: {body}\")\n",
    "\n",
    "connection_parameters = pika.ConnectionParameters('localhost')\n",
    "\n",
    "connection = pika.BlockingConnection(connection_parameters)\n",
    "\n",
    "channel = connection.channel()\n",
    "\n",
    "channel.exchange_declare(exchange='pubsub', exchange_type='fanout')\n",
    "\n",
    "queue = channel.queue_declare(queue='', exclusive=True)\n",
    "\n",
    "channel.queue_bind(exchange='pubsub', queue=queue.method.queue)\n",
    "\n",
    "channel.basic_consume(queue=queue.method.queue, auto_ack=True,\n",
    "    on_message_callback=on_message_received)\n",
    "\n",
    "print(\"Consumiendo...\")\n",
    "\n",
    "channel.start_consuming()"
   ]
  }
 ],
 "metadata": {
  "kernelspec": {
   "display_name": "Python 3",
   "language": "python",
   "name": "python3"
  },
  "language_info": {
   "name": "python",
   "version": "3.11.5"
  }
 },
 "nbformat": 4,
 "nbformat_minor": 2
}
